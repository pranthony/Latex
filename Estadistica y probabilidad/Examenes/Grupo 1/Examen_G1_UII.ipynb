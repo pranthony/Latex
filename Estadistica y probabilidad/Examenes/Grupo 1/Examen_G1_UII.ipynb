{
  "nbformat": 4,
  "nbformat_minor": 0,
  "metadata": {
    "colab": {
      "provenance": []
    },
    "kernelspec": {
      "name": "python3",
      "display_name": "Python 3"
    },
    "language_info": {
      "name": "python"
    }
  },
  "cells": [
    {
      "cell_type": "code",
      "execution_count": null,
      "metadata": {
        "colab": {
          "base_uri": "https://localhost:8080/"
        },
        "id": "sy0AG4db_Ru-",
        "outputId": "fdc24569-d90e-4b40-da5f-df56a347ec8e"
      },
      "outputs": [
        {
          "output_type": "stream",
          "name": "stdout",
          "text": [
            "Remplazar con su comentario 61.0\n",
            "  Intervalos  Li  Ui  f_absoluta  m_clase  f_i_por_m_i  f_acumulada\n",
            "0   (20, 40)  20  40          10     30.0        300.0           10\n",
            "1   (40, 50)  40  50          25     45.0       1125.0           35\n",
            "2   (50, 80)  50  80          46     65.0       2990.0           81\n",
            "3   (80, 90)  80  90           9     85.0        765.0           90\n",
            "4   (90, 94)  90  94          10     92.0        920.0          100\n",
            "Remplazar con su interpretacion de mediana 59.78260869565217\n",
            "35\n"
          ]
        }
      ],
      "source": [
        "# 2. Dada la siguiente tabla de frecuencia no común\n",
        "\n",
        "import pandas as pd\n",
        "import numpy as np\n",
        "\n",
        "tabla_frecuncia = pd.DataFrame({\n",
        "    'Intervalos': [(20, 40), (40, 50), (50, 80), (80, 90), (90, 94)],\n",
        "     'Li': [20, 40, 50, 80, 90],\n",
        "     'Ui': [40, 50, 80, 90, 94],\n",
        "    'f_absoluta': [10, 25, 46, 9, 10]\n",
        "})\n",
        "\n",
        "tabla_frecuncia['m_clase'] = (tabla_frecuncia['Li'] + tabla_frecuncia['Ui'])/2\n",
        "tabla_frecuncia['f_i_por_m_i'] = tabla_frecuncia['f_absoluta'] * tabla_frecuncia['m_clase']\n",
        "\n",
        "# Determinar la media y la mediana de esta distribuci´on. (2 puntos)\n",
        "# x = sum(f_i*m_i)/n\n",
        "def calcular_media_agrupada(f_i_por_m_i, n):\n",
        "  return sum(f_i_por_m_i)/n\n",
        "\n",
        "n = sum(tabla_frecuncia['f_absoluta'])\n",
        "media_agrupada = calcular_media_agrupada(\n",
        "    tabla_frecuncia['f_i_por_m_i'],\n",
        "    n\n",
        ")\n",
        "\n",
        "print('Remplazar con su comentario', media_agrupada)\n",
        "\n",
        "# Me = Li + A/f_i (n/2 - F_i-1)\n",
        "\n",
        "tabla_frecuncia['f_acumulada'] = tabla_frecuncia['f_absoluta'].cumsum()\n",
        "print(tabla_frecuncia)\n",
        "\n",
        "Li = tabla_frecuncia['Li'][2]\n",
        "A = tabla_frecuncia['Ui'][2] - tabla_frecuncia['Li'][2]\n",
        "f_i = tabla_frecuncia['f_absoluta'][2]\n",
        "F_i_1 = tabla_frecuncia['f_acumulada'][1]\n",
        "mediana = Li + (A/f_i)*(n/2 - F_i_1)\n",
        "\n",
        "print('Remplazar con su interpretacion de mediana', mediana)\n"
      ]
    },
    {
      "cell_type": "code",
      "source": [
        "# import scypy\n",
        "# Hallar el procentaje de los datos contenidos en el intervalo. (3 punto)\n",
        "# I = {x ∈ R/|x − X| < ¯X/3}.\n",
        "# |x − X| < ¯X/3\n",
        "# -¯X/3 < x - X < ¯X/3\n",
        "# -¯X/3 + X < x < ¯X/3 + X\n",
        "#Donde, ¯X es la media, X es la mediana, ambas para datos clasificados.\n",
        "\n",
        "# -61/3 + 59.78 < x < 61/3 + 59.78\n",
        "print(-61/3 + 59.78)\n",
        "print(61/3 + 59.78 )\n",
        "# 39.44666666666667 < x < 80.11333333333333\n",
        "# 40 <= x  <= 80\n",
        "print(tabla_frecuncia['f_absoluta'][1]+ tabla_frecuncia['f_absoluta'][2],'%')"
      ],
      "metadata": {
        "colab": {
          "base_uri": "https://localhost:8080/"
        },
        "id": "_y8Rw8_xESXM",
        "outputId": "999c14cb-56a1-493f-c0d2-18a249a270b0"
      },
      "execution_count": null,
      "outputs": [
        {
          "output_type": "stream",
          "name": "stdout",
          "text": [
            "39.44666666666667\n",
            "80.11333333333333\n",
            "71 %\n"
          ]
        }
      ]
    },
    {
      "cell_type": "code",
      "source": [
        "import numpy as np\n",
        "import pandas as pd\n",
        "\n",
        "# Assuming you have your data in 'tabla_frecuncia' DataFrame\n",
        "media_agrupada = tabla_frecuncia['f_i_por_m_i'].sum() / tabla_frecuncia['f_absoluta'].sum()\n",
        "mediana = 59.78  # Replace with your calculated median\n",
        "\n",
        "# Calculate the interval bounds\n",
        "lower_bound = -media_agrupada / 3 + mediana\n",
        "upper_bound = media_agrupada / 3 + mediana\n",
        "\n",
        "# Filter data within the interval\n",
        "filtered_data = tabla_frecuncia[\n",
        "    (tabla_frecuncia['Li'] >= lower_bound) & (tabla_frecuncia['Ui'] <= upper_bound)\n",
        "]\n",
        "\n",
        "# Calculate the percentage\n",
        "percentage = (filtered_data['f_absoluta'].sum() / tabla_frecuncia['f_absoluta'].sum()) * 100\n",
        "\n",
        "print(f\"Percentage of data within the interval: {percentage:.2f}%\")"
      ],
      "metadata": {
        "colab": {
          "base_uri": "https://localhost:8080/"
        },
        "id": "9PH5ro0tKVar",
        "outputId": "b3bdf485-59ed-4967-b3c5-dbff6450100c"
      },
      "execution_count": null,
      "outputs": [
        {
          "output_type": "stream",
          "name": "stdout",
          "text": [
            "Percentage of data within the interval: 71.00%\n"
          ]
        }
      ]
    },
    {
      "cell_type": "code",
      "source": [
        "# La siguiente tabla representa el n´umero de trabajadores encuestados en 60\n",
        "# empresas en el mes de octubre en el departamento de Hu´anuco en 2024:\n",
        "\n",
        "tabla_trabajadores = [\n",
        "  282, 252, 254, 305, 295, 301, 293, 294, 295, 302,\n",
        "  270, 270, 275, 292, 280, 297, 230, 262, 253, 263,\n",
        "  251, 255, 266, 274, 268, 258, 282, 284, 268, 287,\n",
        "  303, 287, 295, 269, 251, 266, 270, 276, 274, 250,\n",
        "  265, 260, 297, 271, 270, 280, 265, 271, 275, 260,\n",
        "  294, 263, 253, 254, 289, 262, 255, 261, 282, 261\n",
        "]\n",
        "\n",
        "# Elaborar la tabla de frecuencias usando la regla de Sturges.\n",
        "n = len(tabla_trabajadores)\n",
        "min_value = min(tabla_trabajadores)\n",
        "max_value = max(tabla_trabajadores)\n",
        "rango = max_value - min_value\n",
        "num_clases = round(np.ceil(1 + 3.322 * np.log10(n)))\n",
        "ancho = np.ceil(rango / num_clases)\n",
        "\n",
        "intervalos = np.array([\n",
        "    (\n",
        "      min_value + i * ancho,\n",
        "      min_value + (i + 1) * ancho\n",
        "    )\n",
        "    for i in range(num_clases)\n",
        "])\n",
        "\n",
        "f_absoluta = np.array([\n",
        "    (\n",
        "        (tabla_trabajadores >= lower) &\n",
        "        (tabla_trabajadores <= upper if (i + 1) == num_clases else tabla_trabajadores < upper)\n",
        "    ).sum()\n",
        "    for i, (lower, upper) in enumerate(intervalos)\n",
        "])\n",
        "\n",
        "tabla_frecuncia_trabajadores = pd.DataFrame({\n",
        "    'Intervalos': [f\"{lower} - {upper}\" for lower, upper in intervalos],\n",
        "    'Li': intervalos[:, 0],\n",
        "    'Ui': intervalos[:, 1],\n",
        "    'm_clase': (intervalos[:, 1] + intervalos[:, 0]) / 2,\n",
        "    'f_absoluta': f_absoluta,\n",
        "    'f_acumulada': f_absoluta.cumsum(),\n",
        "    'f_relativa': f_absoluta / n,\n",
        "    'f_r_acumulada': f_absoluta.cumsum() / n,\n",
        "    'f_porcentual': f_absoluta / n * 100,\n",
        "    'f_acumulada_por_100': f_absoluta.cumsum() / n * 100\n",
        "})\n",
        "print(tabla_frecuncia_trabajadores)"
      ],
      "metadata": {
        "colab": {
          "base_uri": "https://localhost:8080/"
        },
        "id": "jP8Ld2oCKx4i",
        "outputId": "723bf720-9d33-4311-f0e3-ad8865d96fd4"
      },
      "execution_count": null,
      "outputs": [
        {
          "output_type": "stream",
          "name": "stdout",
          "text": [
            "      Intervalos     Li     Ui  m_clase  f_absoluta  f_acumulada  f_relativa  \\\n",
            "0  230.0 - 241.0  230.0  241.0    235.5           1            1    0.016667   \n",
            "1  241.0 - 252.0  241.0  252.0    246.5           3            4    0.050000   \n",
            "2  252.0 - 263.0  252.0  263.0    257.5          14           18    0.233333   \n",
            "3  263.0 - 274.0  263.0  274.0    268.5          15           33    0.250000   \n",
            "4  274.0 - 285.0  274.0  285.0    279.5          11           44    0.183333   \n",
            "5  285.0 - 296.0  285.0  296.0    290.5          10           54    0.166667   \n",
            "6  296.0 - 307.0  296.0  307.0    301.5           6           60    0.100000   \n",
            "\n",
            "   f_r_acumulada  f_porcentual  f_acumulada_por_100  \n",
            "0       0.016667      1.666667             1.666667  \n",
            "1       0.066667      5.000000             6.666667  \n",
            "2       0.300000     23.333333            30.000000  \n",
            "3       0.550000     25.000000            55.000000  \n",
            "4       0.733333     18.333333            73.333333  \n",
            "5       0.900000     16.666667            90.000000  \n",
            "6       1.000000     10.000000           100.000000  \n"
          ]
        }
      ]
    },
    {
      "cell_type": "code",
      "source": [
        "# b) Interpretar: f5, h2. (2 puntos)\n",
        "print(tabla_frecuncia_trabajadores['f_absoluta'][4])\n",
        "\n",
        "print(tabla_frecuncia_trabajadores['f_relativa'][1])"
      ],
      "metadata": {
        "colab": {
          "base_uri": "https://localhost:8080/"
        },
        "id": "QFiHh-mkQrd6",
        "outputId": "e47679da-78f4-4fad-969b-c9fae9f056d2"
      },
      "execution_count": null,
      "outputs": [
        {
          "output_type": "stream",
          "name": "stdout",
          "text": [
            "11\n",
            "0.05\n"
          ]
        }
      ]
    },
    {
      "cell_type": "code",
      "source": [
        "import matplotlib.pyplot as plt\n",
        "\n",
        "bins = np.arange(min_value, max_value + ancho, ancho)\n",
        "\n",
        "def plot_histogram(relative=False, polygon=False):\n",
        "    # Crear una nueva figura y ejes\n",
        "    fig, ax = plt.subplots(figsize=(10, 6))\n",
        "\n",
        "    # Calcular los pesos si es relativo\n",
        "    weights = np.ones_like(tabla_trabajadores) / n if relative else None\n",
        "\n",
        "    # Crear el histograma\n",
        "    hist = ax.hist(\n",
        "        tabla_trabajadores,\n",
        "        bins,\n",
        "        weights=weights,\n",
        "        edgecolor='black',\n",
        "        cumulative=True,  # Acumular las frecuencias\n",
        "        histtype='step'\n",
        "    )\n",
        "\n",
        "    frecuencias = tabla_frecuncia_trabajadores['f_acumulada']\n",
        "    bins_center = tabla_frecuncia_trabajadores['m_clase']\n",
        "    # Etiquetar cada barra con su frecuencia\n",
        "\n",
        "\n",
        "    # Agregar polígono de frecuencia si se solicita\n",
        "    if polygon:\n",
        "        ax.plot(bins_center, frecuencias, 'o-', label='Polígono de frecuencia')\n",
        "        ax.legend()\n",
        "\n",
        "    # Configurar título y etiquetas de ejes\n",
        "    ax.set_title('Histograma')\n",
        "    ax.set_xlabel('Intervalos')\n",
        "    ax.set_ylabel(f\"Frecuencia\")\n",
        "\n",
        "    # Ajustar el diseño\n",
        "    plt.tight_layout()\n",
        "\n",
        "    plt.close(fig)\n",
        "    # Retornar la figura\n",
        "    return fig\n",
        "\n",
        "plot_histogram(polygon=True)"
      ],
      "metadata": {
        "colab": {
          "base_uri": "https://localhost:8080/",
          "height": 607
        },
        "id": "ZhajDO9oQ97X",
        "outputId": "446b3fa7-9365-4f66-8474-b3c04151baaf"
      },
      "execution_count": null,
      "outputs": [
        {
          "output_type": "execute_result",
          "data": {
            "text/plain": [
              "<Figure size 1000x600 with 1 Axes>"
            ],
            "image/png": "[encoded data removed]"
          },
          "metadata": {},
          "execution_count": 66
        }
      ]
    },
    {
      "cell_type": "code",
      "source": [
        "from scipy import stats\n",
        "\n",
        "# d) Calcular la media aritm´etica (¯x) y la mediana (Me) para datos agrupados\n",
        "# y no agrupados. (2 puntos)\n",
        "# e) Calcular la moda (Mo) para datos agrupados y no agrupados. (2 puntos)\n",
        "\n",
        "# x, Mo, ME no agrupada\n",
        "media_no_agrupada = np.mean(tabla_trabajadores)\n",
        "mediana_no_agrupada = np.median(tabla_trabajadores)\n",
        "moda_no_agrupada = stats.mode(tabla_trabajadores)[0]\n",
        "\n",
        "print('media_no_agrupada', media_no_agrupada)\n",
        "print('mediana_no_agrupada', mediana_no_agrupada)\n",
        "print('moda_no_agrupada',moda_no_agrupada)\n",
        "\n",
        "# x, Mo, ME agrupada\n",
        "media_agrupada = sum(tabla_frecuncia_trabajadores['m_clase'] * tabla_frecuncia_trabajadores['f_absoluta']) / n\n",
        "print('media_agrupada', media_agrupada)\n",
        "\n",
        "Li = tabla_frecuncia_trabajadores['Li'][3]\n",
        "f_i = tabla_frecuncia_trabajadores['f_absoluta'][3]\n",
        "F_i_1 = tabla_frecuncia_trabajadores['f_acumulada'][2]\n",
        "\n",
        "mediana_agrupada = Li + ancho/f_i*(n/2 - F_i_1)\n",
        "print('mediana_agrupada', mediana_agrupada)\n",
        "\n",
        "f_i_menos_1 = tabla_frecuncia_trabajadores['f_absoluta'][2]\n",
        "f_i_mas_1 = tabla_frecuncia_trabajadores['f_absoluta'][4]\n",
        "\n",
        "moda_agrupada = Li + ancho *(f_i-f_i_menos_1)/(f_i-f_i_menos_1 + f_i-f_i_mas_1)\n",
        "print('moda_agrupada',moda_agrupada)\n"
      ],
      "metadata": {
        "colab": {
          "base_uri": "https://localhost:8080/"
        },
        "id": "u4AI9dd7VAlF",
        "outputId": "cee9fd41-633d-4b0d-d8ce-95fa3a348a1a"
      },
      "execution_count": null,
      "outputs": [
        {
          "output_type": "stream",
          "name": "stdout",
          "text": [
            "media_no_agrupada 273.1166666666667\n",
            "mediana_no_agrupada 270.0\n",
            "moda_no_agrupada 270\n",
            "media_no_agrupada 273.26666666666665\n",
            "mediana_agrupada 271.8\n",
            "moda_agrupada 265.2\n"
          ]
        }
      ]
    }
  ]
}